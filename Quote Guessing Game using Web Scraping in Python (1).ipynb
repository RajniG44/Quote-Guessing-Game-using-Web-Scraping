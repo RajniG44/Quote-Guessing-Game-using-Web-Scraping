{
 "cells": [
  {
   "cell_type": "markdown",
   "id": "545de60a-f541-441c-8079-5a28fcf5039f",
   "metadata": {},
   "source": [
    "Quote Guessing Game using Web Scraping in Python"
   ]
  },
  {
   "cell_type": "markdown",
   "id": "a36a6cc1-5927-4609-ac85-0a2f179c355b",
   "metadata": {},
   "source": [
    "In this Project, we will scrape a quote and details of the author from this site http//quotes.toscrape.com using python framework called BeautifulSoup and develop a guessing game using different data structures and algorithm.\n",
    "\n",
    "The user will be given 4 chances to guess the author of a famous quote, In every chance the user will be provided with a hint which can be the author’s birth date, first name’s first letter, second name’s first letter, etc. On successfully guessing the author, a message is printed and if the user fails to guess the answer even after all the 4 chances then again a message is printed along with the answer.\n",
    "\n",
    "Approach\n",
    "Import module\n",
    "requests help us grab the page, when the response is received it is stored in the form of a string\n",
    "bs4 library is used to create beasutifulSoup object.\n",
    "csv library helps reading and writing CSV files using python\n",
    "sleep function from time module helps add delay in the execution of the program.\n",
    "choice function from random module returns a random element.\n",
    "Create a list to store values scraped\n",
    "Scrape the details from this link: http//quotes.toscrape.com\n",
    "Extract data\n",
    "Game logic\n",
    "Return random items from the dictionary created\n",
    "Set number of guesses\n",
    "Write message for success and failure\n",
    "Keep giving hints until either number of chances reach zero or the user gets it right"
   ]
  },
  {
   "cell_type": "code",
   "execution_count": 5,
   "id": "9ccaf170-29cd-48f0-b275-23eb18847763",
   "metadata": {},
   "outputs": [],
   "source": [
    "guess = ''\n",
    "while guess.strip().lower() != quote[\"author\"].lower() and remaining_guesses > 0:\n",
    "    guess = input(f\"Who said this quote? Guesses remaining {remaining_guesses}\\n\")\n",
    "    \n",
    "    if guess.strip().lower() == quote[\"author\"].lower():\n",
    "        print(\"CONGRATULATIONS!!! YOU GOT IT RIGHT\")\n",
    "        break\n",
    "\n",
    "    remaining_guesses -= 1\n",
    "\n",
    "    if remaining_guesses == 3:\n",
    "        res = requests.get(f\"{base_url}{quote['bio-link']}\")\n",
    "        soup = BeautifulSoup(res.text, \"html.parser\")\n",
    "        birth_date = soup.find(class_=\"author-born-date\").get_text()\n",
    "        birth_place = soup.find(class_=\"author-born-location\").get_text()\n",
    "        print(f\"Here's a hint: The author was born on {birth_date}{birth_place}\")\n",
    "    elif remaining_guesses == 2:\n",
    "        print(f\"Here's a hint: The author's first name starts with: {quote['author'][0]}\")\n",
    "    elif remaining_guesses == 1:\n",
    "        last_initial = quote[\"author\"].split(\" \")[1][0]\n",
    "        print(f\"Here's a hint: The author's last name starts with: {last_initial}\")\n",
    "    else:\n",
    "        print(f\"Sorry, you ran out of guesses. The answer was {quote['author']}\")\n"
   ]
  },
  {
   "cell_type": "code",
   "execution_count": null,
   "id": "7f506f36-62d7-485a-96fd-70eca1b9f7c7",
   "metadata": {},
   "outputs": [
    {
     "name": "stdout",
     "output_type": "stream",
     "text": [
      "Now Scrapinghttp://quotes.toscrape.com//page/1\n",
      "Here's a quote: \n",
      "“A day without sunshine is like, you know, night.”\n"
     ]
    },
    {
     "name": "stdin",
     "output_type": "stream",
     "text": [
      "Who said this quote? Guesses remaining 4 Marilyn Monroe.\n"
     ]
    },
    {
     "name": "stdout",
     "output_type": "stream",
     "text": [
      "Here's a hint: The author was born on August 14, 1945in Waco, Texas, The United States\n"
     ]
    },
    {
     "name": "stdin",
     "output_type": "stream",
     "text": [
      "Who said this quote? Guesses remaining 3 Marilyn Monroe.\n"
     ]
    },
    {
     "name": "stdout",
     "output_type": "stream",
     "text": [
      "Here's a hint: The author's first name starts with: S\n"
     ]
    }
   ],
   "source": [
    "import requests\n",
    "from bs4 import BeautifulSoup\n",
    "from csv import writer\n",
    "from time import sleep\n",
    "from random import choice\n",
    "\n",
    "# list to store scraped data\n",
    "all_quotes = []\n",
    "\n",
    "# this part of the url is constant\n",
    "base_url = \"http://quotes.toscrape.com/\"\n",
    "\n",
    "# this part of the url will keep changing\n",
    "url = \"/page/1\"\n",
    "\n",
    "while url:\n",
    "\n",
    "\t# concatenating both urls\n",
    "\t# making request\n",
    "\tres = requests.get(f\"{base_url}{url}\")\n",
    "\tprint(f\"Now Scraping{base_url}{url}\")\n",
    "\tsoup = BeautifulSoup(res.text, \"html.parser\")\n",
    "\n",
    "\t# extracting all elements\n",
    "\tquotes = soup.find_all(class_=\"quote\")\n",
    "\n",
    "\tfor quote in quotes:\n",
    "\t\tall_quotes.append({\n",
    "\t\t\t\"text\": quote.find(class_=\"text\").get_text(),\n",
    "\t\t\t\"author\": quote.find(class_=\"author\").get_text(),\n",
    "\t\t\t\"bio-link\": quote.find(\"a\")[\"href\"]\n",
    "\t\t})\n",
    "\tnext_btn = soup.find(_class=\"next\")\n",
    "\turl = next_btn.find(\"a\")[\"href\"] if next_btn else None\n",
    "\tsleep(2)\n",
    "\n",
    "quote = choice(all_quotes)\n",
    "remaining_guesses = 4\n",
    "print(\"Here's a quote: \")\n",
    "print(quote[\"text\"])\n",
    "\n",
    "guess = ''\n",
    "while guess.lower() != quote[\"author\"].lower() and remaining_guesses > 0:\n",
    "\tguess = input(\n",
    "\t\tf\"Who said this quote? Guesses remaining {remaining_guesses}\")\n",
    "\t\n",
    "\tif guess == quote[\"author\"]:\n",
    "\t\tprint(\"CONGRATULATIONS!!! YOU GOT IT RIGHT\")\n",
    "\t\tbreak\n",
    "\tremaining_guesses -= 1\n",
    "\t\n",
    "\tif remaining_guesses == 3:\n",
    "\t\tres = requests.get(f\"{base_url}{quote['bio-link']}\")\n",
    "\t\tsoup = BeautifulSoup(res.text, \"html.parser\")\n",
    "\t\tbirth_date = soup.find(class_=\"author-born-date\").get_text()\n",
    "\t\tbirth_place = soup.find(class_=\"author-born-location\").get_text()\n",
    "\t\tprint(\n",
    "\t\t\tf\"Here's a hint: The author was born on {birth_date}{birth_place}\")\n",
    "\t\n",
    "\telif remaining_guesses == 2:\n",
    "\t\tprint(\n",
    "\t\t\tf\"Here's a hint: The author's first name starts with: {quote['author'][0]}\")\n",
    "\t\n",
    "\telif remaining_guesses == 1:\n",
    "\t\tlast_initial = quote[\"author\"].split(\" \")[1][0]\n",
    "\t\tprint(\n",
    "\t\t\tf\"Here's a hint: The author's last name starts with: {last_initial}\")\n",
    "\t\n",
    "\telse:\n",
    "\t\tprint(\n",
    "\t\t\tf\"Sorry, you ran out of guesses. The answer was {quote['author']}\")\n"
   ]
  },
  {
   "cell_type": "markdown",
   "id": "5b1bd5c9-dcc6-4a19-9566-38e94143748a",
   "metadata": {},
   "source": [
    "Time Complexity: \n",
    "The time complexity of this code is O(N) because the while loop is iterating over quotes list N times.\n",
    "\n",
    "Space Complexity:\n",
    "The space complexity of this code is O(N) because the all_quotes list is storing N number of elements.\n",
    "\n"
   ]
  },
  {
   "cell_type": "code",
   "execution_count": null,
   "id": "9e86f1d4-ad6d-4876-b09c-4f4512618585",
   "metadata": {},
   "outputs": [],
   "source": []
  }
 ],
 "metadata": {
  "kernelspec": {
   "display_name": "Python 3 (ipykernel)",
   "language": "python",
   "name": "python3"
  },
  "language_info": {
   "codemirror_mode": {
    "name": "ipython",
    "version": 3
   },
   "file_extension": ".py",
   "mimetype": "text/x-python",
   "name": "python",
   "nbconvert_exporter": "python",
   "pygments_lexer": "ipython3",
   "version": "3.12.7"
  }
 },
 "nbformat": 4,
 "nbformat_minor": 5
}
